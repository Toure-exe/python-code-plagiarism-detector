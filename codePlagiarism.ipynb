{
 "cells": [
  {
   "cell_type": "code",
   "execution_count": 1,
   "metadata": {},
   "outputs": [],
   "source": [
    "import os\n",
    "from sklearn.feature_extraction.text import TfidfVectorizer\n",
    "from sklearn.metrics.pairwise import cosine_similarity\n",
    "import ast\n",
    "import graphviz"
   ]
  },
  {
   "cell_type": "code",
   "execution_count": 2,
   "metadata": {},
   "outputs": [],
   "source": [
    "# Common keywords and patterns for multiple languages\n",
    "COMMON_KEYWORDS = {\n",
    "    'python': ['i', 'j', 'k', 'n', 'return', 'for', 'if', 'else', 'while', 'in', 'len', 'range', 'print', 'True', 'False', 'def', 'self']\n",
    "}"
   ]
  },
  {
   "cell_type": "code",
   "execution_count": 3,
   "metadata": {},
   "outputs": [],
   "source": [
    "def getNodeLabel(node):\n",
    "    # Determina il nome del nodo da visualizzare nel grafo\n",
    "    label = type(node).__name__\n",
    "    \n",
    "    # Gestisci i casi speciali per visualizzare informazioni aggiuntive\n",
    "    if isinstance(node, ast.Module):\n",
    "        label = \"Module\"\n",
    "    elif isinstance(node, ast.FunctionDef):\n",
    "        label += f\" (function: {node.name})\"\n",
    "    elif isinstance(node, ast.ClassDef):\n",
    "        label += f\" (class: {node.name})\"\n",
    "    elif isinstance(node, ast.arguments):\n",
    "        arg_names = [arg.arg for arg in node.args]\n",
    "        label += f\" (args: {', '.join(arg_names)})\"\n",
    "    elif isinstance(node, ast.arg):\n",
    "        label += f\" (arg: {node.arg})\"\n",
    "    elif isinstance(node, ast.Return):\n",
    "        label += \" (return)\"\n",
    "    elif isinstance(node, ast.Assign):\n",
    "        targets = [target.id for target in node.targets if isinstance(target, ast.Name)]\n",
    "        label += f\" (assign: {', '.join(targets)})\"\n",
    "    elif isinstance(node, ast.Name):\n",
    "        label += f\" (id: {node.id})\"\n",
    "    elif isinstance(node, ast.Constant):\n",
    "        label += f\" (value: {node.value})\"\n",
    "    elif isinstance(node, ast.BinOp):\n",
    "        label += f\" ({type(node.op).__name__})\"\n",
    "    elif isinstance(node, ast.Call):\n",
    "        func_name = node.func.id if isinstance(node.func, ast.Name) else type(node.func).__name__\n",
    "        label += f\" (call: {func_name})\"\n",
    "    elif isinstance(node, ast.Attribute):\n",
    "        label += f\" (attribute: {node.attr})\"\n",
    "    elif isinstance(node, ast.Expr):\n",
    "        label = \"Expr\"\n",
    "    elif isinstance(node, ast.If):\n",
    "        label += \" (if statement)\"\n",
    "    elif isinstance(node, ast.For):\n",
    "        label += \" (for loop)\"\n",
    "    elif isinstance(node, ast.While):\n",
    "        label += \" (while loop)\"\n",
    "    elif isinstance(node, ast.With):\n",
    "        label += \" (with statement)\"\n",
    "    elif isinstance(node, ast.Lambda):\n",
    "        label += \" (lambda)\"\n",
    "    elif isinstance(node, ast.BoolOp):\n",
    "        label += f\" (bool op: {type(node.op).__name__})\"\n",
    "    elif isinstance(node, ast.Compare):\n",
    "        label += \" (compare)\"\n",
    "    elif isinstance(node, ast.UnaryOp):\n",
    "        label += f\" (unary op: {type(node.op).__name__})\"\n",
    "    elif isinstance(node, ast.Subscript):\n",
    "        label += \" (subscript)\"\n",
    "    elif isinstance(node, ast.List):\n",
    "        label += \" (list)\"\n",
    "    elif isinstance(node, ast.Dict):\n",
    "        label += \" (dict)\"\n",
    "\n",
    "    return label"
   ]
  },
  {
   "cell_type": "code",
   "execution_count": 4,
   "metadata": {},
   "outputs": [],
   "source": [
    "def ast_to_graph(code, graph=None, parent=None):\n",
    "    node = ast.parse(code)\n",
    "    if graph is None:\n",
    "        graph = graphviz.Digraph()\n",
    "    \n",
    "    label = getNodeLabel(node)\n",
    "    \n",
    "    # Aggiungi il nodo al grafo\n",
    "    node_id = str(id(node))\n",
    "    graph.node(node_id, label)\n",
    "    \n",
    "    # Se c'è un nodo genitore, crea un bordo (edge)\n",
    "    if parent:\n",
    "        graph.edge(parent, node_id)\n",
    "    \n",
    "    # Itera sui campi del nodo per trovare eventuali figli\n",
    "    for field_name, value in ast.iter_fields(node):\n",
    "        if isinstance(value, list):\n",
    "            for item in value:\n",
    "                if isinstance(item, ast.AST):\n",
    "                    ast_to_graph(item, graph, node_id)\n",
    "        elif isinstance(value, ast.AST):\n",
    "            ast_to_graph(value, graph, node_id)\n",
    "    \n",
    "    return graph"
   ]
  },
  {
   "cell_type": "code",
   "execution_count": 5,
   "metadata": {},
   "outputs": [],
   "source": [
    "def calculate_plagiarism_percentage(cosineSimilarity, astSimilarity, cosine_weight=0.5, ast_weight=0.5):\n",
    "    return (cosineSimilarity * cosine_weight) + (astSimilarity * ast_weight)"
   ]
  },
  {
   "cell_type": "code",
   "execution_count": 6,
   "metadata": {},
   "outputs": [],
   "source": [
    "def read_code(file_path):\n",
    "    with open(file_path, 'r', encoding='utf-8') as file:\n",
    "        code = (file.read())\n",
    "    return code"
   ]
  },
  {
   "cell_type": "code",
   "execution_count": 7,
   "metadata": {},
   "outputs": [],
   "source": [
    "def getCosineSimilarity(codeA, codeB):\n",
    "    vectorizer = TfidfVectorizer(stop_words=COMMON_KEYWORDS['python'], max_features=1000).fit_transform([codeA, codeB]) # dopo aggiungere COMMON_KEYWORDS e forse COMMON_PATTERNS\n",
    "    vectors = vectorizer.toarray()\n",
    "    similarity = cosine_similarity(vectors)[0, 1]\n",
    "    if similarity < 0:\n",
    "        similarity = 0\n",
    "        \n",
    "    return similarity * 100"
   ]
  },
  {
   "cell_type": "code",
   "execution_count": 8,
   "metadata": {},
   "outputs": [],
   "source": [
    "def getAST_similarity(codeA, codeB):\n",
    "    treeA = ast.parse(codeA)\n",
    "    treeB = ast.parse(codeB)\n",
    "    #print(ast.dump(treeA.body[0]))\n",
    "    similarity = compare_ast_nodes(treeA, treeB)\n",
    "    return similarity * 100\n",
    "\n",
    "def compare_ast_lists(childListA, childListB):\n",
    "    if len(childListA) != len(childListB):\n",
    "        return 0.3\n",
    "    if len(childListA) == 0 and len(childListB) == 0:\n",
    "        return 1\n",
    "\n",
    "    scores = [compare_ast_nodes(n1, n2) for n1, n2 in zip(childListA, childListB)]\n",
    "    return sum(scores) / len(scores)\n",
    "\n",
    "def compare_ast_nodes(nodeA, nodeB):\n",
    "    if type(nodeA) != type(nodeB):\n",
    "        return 0.1\n",
    "\n",
    "    score = 1.0\n",
    "    for field in nodeA._fields:\n",
    "        valueA = getattr(nodeA, field, None)\n",
    "        valueB = getattr(nodeB, field, None)\n",
    "        \n",
    "        if isinstance(valueA, list) and isinstance(valueB, list):\n",
    "            listSimilarity = compare_ast_lists(valueA, valueB)\n",
    "            score *= listSimilarity\n",
    "        elif isinstance(valueA, ast.AST) and isinstance(valueB, ast.AST):\n",
    "            nodeSimilarity = compare_ast_nodes(valueA, valueB)\n",
    "            score *= nodeSimilarity\n",
    "        else:\n",
    "            if valueA != valueB:\n",
    "                score *= 0.9\n",
    "    \n",
    "    return score"
   ]
  },
  {
   "cell_type": "code",
   "execution_count": 9,
   "metadata": {},
   "outputs": [],
   "source": [
    "tresholdCosineSimilarity = 50"
   ]
  },
  {
   "cell_type": "code",
   "execution_count": 10,
   "metadata": {},
   "outputs": [
    {
     "name": "stdout",
     "output_type": "stream",
     "text": [
      "Results: \n",
      "Similarity prob: 49.89%\n",
      "    Cosine similarity: 54.59%\n",
      "    AST similarity probability: 47.88% \n",
      "\n",
      "Comments: \n",
      "Small probability of plagiarism.\n"
     ]
    },
    {
     "name": "stderr",
     "output_type": "stream",
     "text": [
      "C:\\Users\\Toure\\AppData\\Local\\Packages\\PythonSoftwareFoundation.Python.3.10_qbz5n2kfra8p0\\LocalCache\\local-packages\\Python310\\site-packages\\sklearn\\feature_extraction\\text.py:408: UserWarning: Your stop_words may be inconsistent with your preprocessing. Tokenizing the stop words generated tokens ['false', 'true'] not in stop_words.\n",
      "  warnings.warn(\n"
     ]
    }
   ],
   "source": [
    "printAST_trees = False\n",
    "dirPath = './Codes/'\n",
    "fileA_path = 'A/dfs_A.txt'\n",
    "fileB_path = 'B/dfs_B.txt'\n",
    "codeA = read_code(os.path.join(dirPath, fileA_path))\n",
    "codeB = read_code(os.path.join(dirPath, fileB_path))\n",
    "\n",
    "if printAST_trees: \n",
    "    dotGrapthA = ast_to_graph(codeA)\n",
    "    dotGrapthA.render('ast_codeA', format='png', view=True)\n",
    "    dotGrapthB = ast_to_graph(codeB)\n",
    "    dotGrapthB.render('ast_codeB', format='png', view=True)\n",
    "\n",
    "cosineSimilarity = getCosineSimilarity(codeA, codeB)\n",
    "astSimilarity = getAST_similarity(codeA, codeB)\n",
    "finalScore = calculate_plagiarism_percentage(cosineSimilarity, astSimilarity, 0.3, 0.7)\n",
    "\n",
    "print(f\"Results: \\nSimilarity prob: {finalScore:.2f}%\")\n",
    "print(f\"    Cosine similarity: {cosineSimilarity:.2f}%\")\n",
    "print(f\"    AST similarity probability: {astSimilarity:.2f}% \\n\")\n",
    "if finalScore >= 75:\n",
    "    print(f\"Comments: \\nHigh probability of plagiarism.\")\n",
    "elif finalScore > 50 and finalScore < 75:\n",
    "    print(f\"Comments: \\nSlight probability of plagiarism. Human control is recommended.\")\n",
    "else:\n",
    "    print(f\"Comments: \\nSmall probability of plagiarism.\")\n",
    "\n",
    "match(cosineSimilarity, astSimilarity):\n",
    "    case (cosineSimilarity, astSimilarity) if cosineSimilarity >= 75:\n",
    "        print(f\"    The semantic of the two codes are too similar.\")\n",
    "    case (cosineSimilarity, astSimilarity) if astSimilarity >= 75:\n",
    "        print(f\"    The patters/simbologies of the two codes are too similar.\")\n",
    "\n",
    "\n"
   ]
  }
 ],
 "metadata": {
  "kernelspec": {
   "display_name": "Python 3",
   "language": "python",
   "name": "python3"
  },
  "language_info": {
   "codemirror_mode": {
    "name": "ipython",
    "version": 3
   },
   "file_extension": ".py",
   "mimetype": "text/x-python",
   "name": "python",
   "nbconvert_exporter": "python",
   "pygments_lexer": "ipython3",
   "version": "3.10.11"
  }
 },
 "nbformat": 4,
 "nbformat_minor": 2
}
